{
  "nbformat": 4,
  "nbformat_minor": 0,
  "metadata": {
    "colab": {
      "provenance": []
    },
    "kernelspec": {
      "name": "python3",
      "display_name": "Python 3"
    },
    "language_info": {
      "name": "python"
    }
  },
  "cells": [
    {
      "cell_type": "code",
      "execution_count": 1,
      "metadata": {
        "colab": {
          "base_uri": "https://localhost:8080/"
        },
        "id": "s-vHNk8u6viJ",
        "outputId": "23c95d2d-ccce-40db-d948-75390b1c5c8c"
      },
      "outputs": [
        {
          "output_type": "stream",
          "name": "stdout",
          "text": [
            "Requirement already satisfied: nltk in /usr/local/lib/python3.10/dist-packages (3.9.1)\n",
            "Requirement already satisfied: click in /usr/local/lib/python3.10/dist-packages (from nltk) (8.1.7)\n",
            "Requirement already satisfied: joblib in /usr/local/lib/python3.10/dist-packages (from nltk) (1.4.2)\n",
            "Requirement already satisfied: regex>=2021.8.3 in /usr/local/lib/python3.10/dist-packages (from nltk) (2024.11.6)\n",
            "Requirement already satisfied: tqdm in /usr/local/lib/python3.10/dist-packages (from nltk) (4.67.1)\n"
          ]
        }
      ],
      "source": [
        "! pip install nltk"
      ]
    },
    {
      "cell_type": "code",
      "source": [
        "corpus = \"\"\"Hii! I am Darshika.\n",
        "I am doing my PG in AI field!!\n",
        "i am 23 years old. \"\"\""
      ],
      "metadata": {
        "id": "37hhhgTS7DTv"
      },
      "execution_count": 6,
      "outputs": []
    },
    {
      "cell_type": "code",
      "source": [
        "corpus"
      ],
      "metadata": {
        "colab": {
          "base_uri": "https://localhost:8080/",
          "height": 36
        },
        "id": "wevrHR_l7jCe",
        "outputId": "a2907d8c-9182-4dc6-c9a2-6953e58bcef8"
      },
      "execution_count": 3,
      "outputs": [
        {
          "output_type": "execute_result",
          "data": {
            "text/plain": [
              "' Hii! I am Darshika. \\nI am doing my PG in AI field!!\\ni am 23 years old. '"
            ],
            "application/vnd.google.colaboratory.intrinsic+json": {
              "type": "string"
            }
          },
          "metadata": {},
          "execution_count": 3
        }
      ]
    },
    {
      "cell_type": "code",
      "source": [
        "print(corpus)"
      ],
      "metadata": {
        "colab": {
          "base_uri": "https://localhost:8080/"
        },
        "id": "ub6h7MrQ7lMG",
        "outputId": "627fe113-92ca-4c5b-be3e-7292c20af57a"
      },
      "execution_count": 7,
      "outputs": [
        {
          "output_type": "stream",
          "name": "stdout",
          "text": [
            "Hii! I am Darshika. \n",
            "I am doing my PG in AI field!!\n",
            "i am 23 years old. \n"
          ]
        }
      ]
    },
    {
      "cell_type": "markdown",
      "source": [
        "Tokenization -> corpus to documents (paragragh to sentence)"
      ],
      "metadata": {
        "id": "el8n7pQF7x4h"
      }
    },
    {
      "cell_type": "code",
      "source": [
        "from nltk.tokenize import sent_tokenize\n",
        "import nltk\n",
        "nltk.download('punkt_tab')"
      ],
      "metadata": {
        "colab": {
          "base_uri": "https://localhost:8080/"
        },
        "id": "qv5xD7wC7uhS",
        "outputId": "859748c5-865e-4891-960a-43b260c50f1d"
      },
      "execution_count": 11,
      "outputs": [
        {
          "output_type": "stream",
          "name": "stderr",
          "text": [
            "[nltk_data] Downloading package punkt_tab to /root/nltk_data...\n",
            "[nltk_data]   Unzipping tokenizers/punkt_tab.zip.\n"
          ]
        },
        {
          "output_type": "execute_result",
          "data": {
            "text/plain": [
              "True"
            ]
          },
          "metadata": {},
          "execution_count": 11
        }
      ]
    },
    {
      "cell_type": "code",
      "source": [
        "document = sent_tokenize(corpus)   ## give list of sentence"
      ],
      "metadata": {
        "id": "2Y6nxtoD8Qsd"
      },
      "execution_count": 13,
      "outputs": []
    },
    {
      "cell_type": "code",
      "source": [
        "for docs in document:\n",
        "  print(docs)"
      ],
      "metadata": {
        "colab": {
          "base_uri": "https://localhost:8080/"
        },
        "id": "6TPaaDrB82DQ",
        "outputId": "f018d039-6c37-4e82-f55f-ed64ea20b171"
      },
      "execution_count": 14,
      "outputs": [
        {
          "output_type": "stream",
          "name": "stdout",
          "text": [
            "Hii!\n",
            "I am Darshika.\n",
            "I am doing my PG in AI field!!\n",
            "i am 23 years old.\n"
          ]
        }
      ]
    },
    {
      "cell_type": "code",
      "source": [
        "from nltk.tokenize import word_tokenize"
      ],
      "metadata": {
        "id": "Qbb_qyGy_lyF"
      },
      "execution_count": 15,
      "outputs": []
    },
    {
      "cell_type": "code",
      "source": [
        "word_tokenize(corpus)\n",
        "# word_tokenize(docs)"
      ],
      "metadata": {
        "colab": {
          "base_uri": "https://localhost:8080/"
        },
        "id": "DdIrdCBC_8be",
        "outputId": "779ba143-c2e7-4a16-ebc3-d8fe9823b18b"
      },
      "execution_count": 18,
      "outputs": [
        {
          "output_type": "execute_result",
          "data": {
            "text/plain": [
              "['Hii',\n",
              " '!',\n",
              " 'I',\n",
              " 'am',\n",
              " 'Darshika',\n",
              " '.',\n",
              " 'I',\n",
              " 'am',\n",
              " 'doing',\n",
              " 'my',\n",
              " 'PG',\n",
              " 'in',\n",
              " 'AI',\n",
              " 'field',\n",
              " '!',\n",
              " '!',\n",
              " 'i',\n",
              " 'am',\n",
              " '23',\n",
              " 'years',\n",
              " 'old',\n",
              " '.']"
            ]
          },
          "metadata": {},
          "execution_count": 18
        }
      ]
    },
    {
      "cell_type": "code",
      "source": [
        "word_tokenize(docs)"
      ],
      "metadata": {
        "colab": {
          "base_uri": "https://localhost:8080/"
        },
        "id": "pzKKfNTgASWc",
        "outputId": "ad3cdbfe-0bec-4c8f-db95-2e027ed6f663"
      },
      "execution_count": 19,
      "outputs": [
        {
          "output_type": "execute_result",
          "data": {
            "text/plain": [
              "['i', 'am', '23', 'years', 'old', '.']"
            ]
          },
          "metadata": {},
          "execution_count": 19
        }
      ]
    },
    {
      "cell_type": "code",
      "source": [
        "for docs in document:\n",
        "  print(word_tokenize(docs))"
      ],
      "metadata": {
        "colab": {
          "base_uri": "https://localhost:8080/"
        },
        "id": "d-ezy1kaA1Sf",
        "outputId": "f41995ca-21c8-4a08-ee6a-51cae7c94ca4"
      },
      "execution_count": 20,
      "outputs": [
        {
          "output_type": "stream",
          "name": "stdout",
          "text": [
            "['Hii', '!']\n",
            "['I', 'am', 'Darshika', '.']\n",
            "['I', 'am', 'doing', 'my', 'PG', 'in', 'AI', 'field', '!', '!']\n",
            "['i', 'am', '23', 'years', 'old', '.']\n"
          ]
        }
      ]
    },
    {
      "cell_type": "code",
      "source": [
        "from nltk.tokenize import TreebankWordTokenizer"
      ],
      "metadata": {
        "id": "1AlQlS3vBOg2"
      },
      "execution_count": 22,
      "outputs": []
    },
    {
      "cell_type": "code",
      "source": [
        "tokenizer = TreebankWordTokenizer()\n",
        "tokenizer.tokenize(corpus)"
      ],
      "metadata": {
        "colab": {
          "base_uri": "https://localhost:8080/"
        },
        "id": "byzl6YdgBuck",
        "outputId": "713529e8-1290-4388-f836-813a5be297eb"
      },
      "execution_count": 23,
      "outputs": [
        {
          "output_type": "execute_result",
          "data": {
            "text/plain": [
              "['Hii',\n",
              " '!',\n",
              " 'I',\n",
              " 'am',\n",
              " 'Darshika.',\n",
              " 'I',\n",
              " 'am',\n",
              " 'doing',\n",
              " 'my',\n",
              " 'PG',\n",
              " 'in',\n",
              " 'AI',\n",
              " 'field',\n",
              " '!',\n",
              " '!',\n",
              " 'i',\n",
              " 'am',\n",
              " '23',\n",
              " 'years',\n",
              " 'old',\n",
              " '.']"
            ]
          },
          "metadata": {},
          "execution_count": 23
        }
      ]
    },
    {
      "cell_type": "code",
      "source": [],
      "metadata": {
        "id": "pbu63vZCB9Q_"
      },
      "execution_count": null,
      "outputs": []
    }
  ]
}